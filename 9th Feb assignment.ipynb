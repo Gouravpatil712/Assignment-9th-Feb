{
 "cells": [
  {
   "cell_type": "markdown",
   "id": "252a026f-d92a-4ded-9f58-9f8a95af7f46",
   "metadata": {},
   "source": [
    "## Question 01 - Create a vehicle class with an init method having instance variables as name_of_vehicle, max_speed and average_of_vehicle."
   ]
  },
  {
   "cell_type": "code",
   "execution_count": 1,
   "id": "5cfa6b0e-eb50-4f72-9bb9-2ba1a522fda6",
   "metadata": {},
   "outputs": [],
   "source": [
    "# Answer :-\n",
    "\n",
    "class Vehicle:\n",
    "    def __init__(self, name_of_vehicle, max_speed, average_of_vehicle):\n",
    "        self.name_of_vehicle = name_of_vehicle\n",
    "        self.max_speed = max_speed\n",
    "        self.average_of_vehicle = average_of_vehicle\n"
   ]
  },
  {
   "cell_type": "code",
   "execution_count": 2,
   "id": "1fbab36e-035a-403f-bf61-b1ca42b2304c",
   "metadata": {},
   "outputs": [],
   "source": [
    "# create a Vehicle object\n",
    "car = Vehicle(\"Toyota\", 200, 30)\n"
   ]
  },
  {
   "cell_type": "code",
   "execution_count": 3,
   "id": "b2d6323a-a316-4815-8bb5-49dfd6562034",
   "metadata": {},
   "outputs": [
    {
     "name": "stdout",
     "output_type": "stream",
     "text": [
      "Name of Vehicle: Toyota\n",
      "Max Speed: 200\n",
      "Average of Vehicle: 30\n"
     ]
    }
   ],
   "source": [
    "# access the instance variables\n",
    "print(\"Name of Vehicle:\", car.name_of_vehicle)\n",
    "print(\"Max Speed:\", car.max_speed)\n",
    "print(\"Average of Vehicle:\", car.average_of_vehicle)"
   ]
  },
  {
   "cell_type": "markdown",
   "id": "b6005b69-c5b5-4500-b63d-d3eec88abe37",
   "metadata": {},
   "source": [
    "## Question 02 - Create a child class car from the vehicle class created in Que 1, which will inherit the vehicle class. Create a method named seating_capacity which takes capacity as an argument and returns the name of the vehicle and its seating capacity."
   ]
  },
  {
   "cell_type": "code",
   "execution_count": 4,
   "id": "c11311d9-e64e-4fe6-9247-9d1a60cd3e3b",
   "metadata": {},
   "outputs": [],
   "source": [
    "#Answer :- \n",
    "\n",
    "class Car(Vehicle):\n",
    "    def __init__(self, name_of_vehicle, max_speed, average_of_vehicle):\n",
    "        super().__init__(name_of_vehicle, max_speed, average_of_vehicle)\n",
    "\n",
    "    def seating_capacity(self, capacity):\n",
    "        return f\"{self.name_of_vehicle} has a seating capacity of {capacity} people.\"\n"
   ]
  },
  {
   "cell_type": "code",
   "execution_count": 5,
   "id": "9e2309be-7215-4180-88cb-d53b29422c6f",
   "metadata": {},
   "outputs": [],
   "source": [
    "# create a Car object\n",
    "car = Car(\"Toyota\", 200, 30)\n"
   ]
  },
  {
   "cell_type": "code",
   "execution_count": 6,
   "id": "577174ba-7de4-4d64-84e4-6a2c5880ad4e",
   "metadata": {},
   "outputs": [
    {
     "name": "stdout",
     "output_type": "stream",
     "text": [
      "Toyota has a seating capacity of 5 people.\n"
     ]
    }
   ],
   "source": [
    "# call the seating_capacity method\n",
    "capacity = 5\n",
    "result = car.seating_capacity(capacity)\n",
    "\n",
    "# print the result\n",
    "print(result)"
   ]
  },
  {
   "cell_type": "markdown",
   "id": "d0ce0728-c376-4d13-9bfe-488a2663da54",
   "metadata": {},
   "source": [
    "## Question 03 - What is multiple inheritance? Write a python code to demonstrate multiple inheritance."
   ]
  },
  {
   "cell_type": "code",
   "execution_count": 7,
   "id": "dfd75450-32f4-4a3e-b392-2b870949f0d6",
   "metadata": {},
   "outputs": [],
   "source": [
    "# Answer :- \n",
    "\n",
    "class Vehicle:\n",
    "    def __init__(self, name, color):\n",
    "        self.name = name\n",
    "        self.color = color\n",
    "\n",
    "    def start_engine(self):\n",
    "        print(f\"{self.name} engine started.\")"
   ]
  },
  {
   "cell_type": "code",
   "execution_count": 8,
   "id": "c423fd72-03b2-426b-85b6-a3284b1faa95",
   "metadata": {},
   "outputs": [],
   "source": [
    "class Radio:\n",
    "    def __init__(self, radio_type):\n",
    "        self.radio_type = radio_type\n",
    "\n",
    "    def turn_on_radio(self):\n",
    "        print(f\"{self.radio_type} radio turned on.\")"
   ]
  },
  {
   "cell_type": "code",
   "execution_count": 9,
   "id": "9de86ed9-49b8-4393-b94f-ece643d0ea88",
   "metadata": {},
   "outputs": [],
   "source": [
    "class Car(Vehicle, Radio):\n",
    "    def __init__(self, name, color, radio_type):\n",
    "        Vehicle.__init__(self, name, color)\n",
    "        Radio.__init__(self, radio_type)\n",
    "\n",
    "    def start_car(self):\n",
    "        self.start_engine()\n",
    "        self.turn_on_radio()"
   ]
  },
  {
   "cell_type": "code",
   "execution_count": 10,
   "id": "977ee904-6311-48f6-a49d-b32230bc61cf",
   "metadata": {},
   "outputs": [],
   "source": [
    "# create a Car object\n",
    "car = Car(\"Toyota\", \"red\", \"FM\")"
   ]
  },
  {
   "cell_type": "code",
   "execution_count": 11,
   "id": "cb02c1eb-ef17-4c59-8325-7db37502e05d",
   "metadata": {},
   "outputs": [
    {
     "name": "stdout",
     "output_type": "stream",
     "text": [
      "Toyota engine started.\n",
      "FM radio turned on.\n"
     ]
    }
   ],
   "source": [
    "# call the start_car method\n",
    "car.start_car()"
   ]
  },
  {
   "cell_type": "markdown",
   "id": "0552bd5c-050d-4835-b0f8-5d48fbfed58a",
   "metadata": {},
   "source": [
    "## Question 04 - What are getter and setter in python? Create a class and create a getter and a setter method in this class."
   ]
  },
  {
   "cell_type": "markdown",
   "id": "e35080fc-3930-4912-9aa7-da092be297db",
   "metadata": {},
   "source": [
    "# Answer :-\n",
    "In Python, getter and setter methods are used to get and set the values of instance variables in a class. They are a way to control access to the instance variables and ensure that they are accessed and modified in a safe and consistent way.\n",
    "\n",
    "A getter method is a method that is used to retrieve the value of an instance variable, while a setter method is a method that is used to set the value of an instance variable."
   ]
  },
  {
   "cell_type": "code",
   "execution_count": 12,
   "id": "179b4256-e77b-4262-9fff-244c565c1cc3",
   "metadata": {},
   "outputs": [],
   "source": [
    "class Person:\n",
    "    def __init__(self, name, age):\n",
    "        self._name = name\n",
    "        self._age = age\n",
    "\n",
    "    def get_name(self):\n",
    "        return self._name\n",
    "\n",
    "    def set_name(self, name):\n",
    "        self._name = name\n",
    "\n",
    "    def get_age(self):\n",
    "        return self._age\n",
    "\n",
    "    def set_age(self, age):\n",
    "        self._age = age\n"
   ]
  },
  {
   "cell_type": "code",
   "execution_count": 13,
   "id": "ec98667d-e1a1-402a-aa53-19549dc9a3f5",
   "metadata": {},
   "outputs": [],
   "source": [
    "# create a Person object\n",
    "person = Person(\"John\", 30)"
   ]
  },
  {
   "cell_type": "code",
   "execution_count": 14,
   "id": "f7b5a01c-334d-4d63-bad4-8946935112bd",
   "metadata": {},
   "outputs": [],
   "source": [
    "\n",
    "# use getter methods to retrieve instance variable values\n",
    "name = person.get_name()\n",
    "age = person.get_age()\n",
    "\n",
    "# use setter methods to set instance variable values\n",
    "person.set_name(\"Gourav\")\n",
    "person.set_age(23)"
   ]
  },
  {
   "cell_type": "code",
   "execution_count": 15,
   "id": "0a1b04a4-ccbd-4515-a9a3-b3a151bb7d38",
   "metadata": {},
   "outputs": [
    {
     "name": "stdout",
     "output_type": "stream",
     "text": [
      "Name: John, Age: 30\n",
      "New Name: Gourav, New Age: 23\n"
     ]
    }
   ],
   "source": [
    "# use getter methods again to retrieve updated instance variable values\n",
    "new_name = person.get_name()\n",
    "new_age = person.get_age()\n",
    "\n",
    "# print the instance variable values\n",
    "print(f\"Name: {name}, Age: {age}\")\n",
    "print(f\"New Name: {new_name}, New Age: {new_age}\")"
   ]
  },
  {
   "cell_type": "markdown",
   "id": "c09d3e02-f51c-4db6-b706-17a91c1a9140",
   "metadata": {},
   "source": [
    "## Question 05 - What is method overriding in python? Write a python code to demonstrate method overriding."
   ]
  },
  {
   "cell_type": "markdown",
   "id": "d6e3ee37-6a19-4d73-9a45-e13501d599ae",
   "metadata": {},
   "source": [
    "# Answer :- \n",
    "Method overriding is a feature in object-oriented programming where a subclass provides its own implementation of a method that is already defined in its superclass. The overridden method in the subclass should have the same signature as the method in the superclass."
   ]
  },
  {
   "cell_type": "code",
   "execution_count": null,
   "id": "b60893e4-bf05-4b8d-a337-9b5ab27bced4",
   "metadata": {},
   "outputs": [],
   "source": []
  }
 ],
 "metadata": {
  "kernelspec": {
   "display_name": "Python 3 (ipykernel)",
   "language": "python",
   "name": "python3"
  },
  "language_info": {
   "codemirror_mode": {
    "name": "ipython",
    "version": 3
   },
   "file_extension": ".py",
   "mimetype": "text/x-python",
   "name": "python",
   "nbconvert_exporter": "python",
   "pygments_lexer": "ipython3",
   "version": "3.10.8"
  }
 },
 "nbformat": 4,
 "nbformat_minor": 5
}
